{
  "nbformat": 4,
  "nbformat_minor": 0,
  "metadata": {
    "colab": {
      "name": "Untitled0.ipynb",
      "provenance": [],
      "authorship_tag": "ABX9TyN/nOW9DYGf7TLGTuPMBHSb",
      "include_colab_link": true
    },
    "kernelspec": {
      "name": "python3",
      "display_name": "Python 3"
    },
    "language_info": {
      "name": "python"
    }
  },
  "cells": [
    {
      "cell_type": "markdown",
      "metadata": {
        "id": "view-in-github",
        "colab_type": "text"
      },
      "source": [
        "<a href=\"https://colab.research.google.com/github/SilviaCalzon/IA-School/blob/main/Exo1_c.ipynb\" target=\"_parent\"><img src=\"https://colab.research.google.com/assets/colab-badge.svg\" alt=\"Open In Colab\"/></a>"
      ]
    },
    {
      "cell_type": "code",
      "execution_count": null,
      "metadata": {
        "id": "ANKZNwzyA0_A"
      },
      "outputs": [],
      "source": [
        "#c \n",
        "n = int(input (\"Entrer le nombre maximal de la suite:\"))\n",
        "U0 = 0\n",
        "U1 = 1\n",
        "\n",
        "for n in range(2,n):\n",
        "  Un = U0 + U1\n",
        "  print(Un)\n",
        "  U0 = U1\n",
        "  U1 = Un"
      ]
    }
  ]
}