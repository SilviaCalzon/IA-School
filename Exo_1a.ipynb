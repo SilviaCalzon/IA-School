{
  "nbformat": 4,
  "nbformat_minor": 0,
  "metadata": {
    "colab": {
      "name": "Activité_1.ipynb",
      "provenance": [],
      "include_colab_link": true
    },
    "kernelspec": {
      "name": "python3",
      "display_name": "Python 3"
    },
    "language_info": {
      "name": "python"
    }
  },
  "cells": [
    {
      "cell_type": "markdown",
      "metadata": {
        "id": "view-in-github",
        "colab_type": "text"
      },
      "source": [
        "<a href=\"https://colab.research.google.com/github/SilviaCalzon/IA-School/blob/main/Exo_1a.ipynb\" target=\"_parent\"><img src=\"https://colab.research.google.com/assets/colab-badge.svg\" alt=\"Open In Colab\"/></a>"
      ]
    },
    {
      "cell_type": "code",
      "execution_count": null,
      "metadata": {
        "colab": {
          "base_uri": "https://localhost:8080/"
        },
        "id": "L94JMDGsqGmg",
        "outputId": "0189e4d6-46d0-4ab5-81e8-895f422e2ac9"
      },
      "outputs": [
        {
          "output_type": "stream",
          "name": "stdout",
          "text": [
            "x=5\n",
            "62.5\n"
          ]
        }
      ],
      "source": [
        "#a\n",
        "x = float(input('x='))\n",
        "def my_calcul(x):\n",
        "      return x**3-1.5*x**2-6*x+5\n",
        "print(my_calcul(x))"
      ]
    }
  ]
}