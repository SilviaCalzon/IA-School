{
  "nbformat": 4,
  "nbformat_minor": 0,
  "metadata": {
    "colab": {
      "name": "Activité_2.ipynb",
      "provenance": [],
      "include_colab_link": true
    },
    "kernelspec": {
      "name": "python3",
      "display_name": "Python 3"
    },
    "language_info": {
      "name": "python"
    }
  },
  "cells": [
    {
      "cell_type": "markdown",
      "metadata": {
        "id": "view-in-github",
        "colab_type": "text"
      },
      "source": [
        "<a href=\"https://colab.research.google.com/github/SilviaCalzon/IA-School/blob/main/Exo2.ipynb\" target=\"_parent\"><img src=\"https://colab.research.google.com/assets/colab-badge.svg\" alt=\"Open In Colab\"/></a>"
      ]
    },
    {
      "cell_type": "code",
      "source": [
        "def my_calcul(x):\n",
        "    k = 1 \n",
        "    while k == 1 :\n",
        "        try :\n",
        "            x = float(input(\"Rentrer une valeur de x = \"))\n",
        "            if x < 0 :\n",
        "                print(\"Imposible de rentrer un nombre négatif\")\n",
        "                break\n",
        "            if x > 9999999 :\n",
        "                print(\"Imposible de rentrer un trop grand nombre\")\n",
        "                break\n",
        "            if x < 0.0000001 :\n",
        "                print(\"Imposible d'entrer un trop petit nombre\")\n",
        "                break\n",
        "            k = 3\n",
        "            \n",
        "        except :\n",
        "            k = 2\n",
        "            print(\"Le système ne peut fontionner qu'avec des entiers et des decimales\")\n",
        "            break\n",
        "\n",
        "    if k == 3:\n",
        "        return (x**3)-(1.5*x**2)-(6*x)+5 \n",
        "        print(my_calcul(x)) \n",
        "\n",
        "my_calcul(5)"
      ],
      "metadata": {
        "id": "9X8pfRsF6D1l",
        "outputId": "08feb108-63a6-4edb-faf7-222baf08cb5e",
        "colab": {
          "base_uri": "https://localhost:8080/"
        }
      },
      "execution_count": 3,
      "outputs": [
        {
          "name": "stdout",
          "output_type": "stream",
          "text": [
            "Rentrer une valeur de x = 5\n"
          ]
        },
        {
          "output_type": "execute_result",
          "data": {
            "text/plain": [
              "62.5"
            ]
          },
          "metadata": {},
          "execution_count": 3
        }
      ]
    }
  ]
}