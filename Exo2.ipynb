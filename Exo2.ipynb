{
  "nbformat": 4,
  "nbformat_minor": 0,
  "metadata": {
    "colab": {
      "name": "Activité_2.ipynb",
      "provenance": [],
      "authorship_tag": "ABX9TyMbVZ/d/NmfprlfCgv+YkcO",
      "include_colab_link": true
    },
    "kernelspec": {
      "name": "python3",
      "display_name": "Python 3"
    },
    "language_info": {
      "name": "python"
    }
  },
  "cells": [
    {
      "cell_type": "markdown",
      "metadata": {
        "id": "view-in-github",
        "colab_type": "text"
      },
      "source": [
        "<a href=\"https://colab.research.google.com/github/SilviaCalzon/IA-School/blob/main/Exo2.ipynb\" target=\"_parent\"><img src=\"https://colab.research.google.com/assets/colab-badge.svg\" alt=\"Open In Colab\"/></a>"
      ]
    },
    {
      "cell_type": "code",
      "source": [
        "def my_calcul(x):\n",
        "    k = 1 \n",
        "    while k == 1 :\n",
        "        try :\n",
        "            x = float(input(\"Rentrer une valeur de x = \"))\n",
        "            if x < 0 :\n",
        "                print(\"Imposible de rentrer un nombre négatif\")\n",
        "                break\n",
        "            if x > 9999999 :\n",
        "                print(\"Imposible de rentrer un trop grand nombre\")\n",
        "                break\n",
        "            if x < 0.0000001 :\n",
        "                print(\"Imposible d'entrer un trop petit nombre\")\n",
        "                break\n",
        "\n",
        "            calcul = (x*3)-(1.5*x*2)-(6*x)+5\n",
        "            return calcul\n",
        "            k = 2\n",
        "        except :\n",
        "            k = 2\n",
        "            print('Entrer que des valeurs')\n",
        "            break\n",
        "    \n",
        "    print(my_calcul(x))"
      ],
      "metadata": {
        "id": "9X8pfRsF6D1l"
      },
      "execution_count": 4,
      "outputs": []
    }
  ]
}