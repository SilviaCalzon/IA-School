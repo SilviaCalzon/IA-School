{
  "nbformat": 4,
  "nbformat_minor": 0,
  "metadata": {
    "colab": {
      "name": "Activité_1.ipynb",
      "provenance": [],
      "include_colab_link": true
    },
    "kernelspec": {
      "name": "python3",
      "display_name": "Python 3"
    },
    "language_info": {
      "name": "python"
    }
  },
  "cells": [
    {
      "cell_type": "markdown",
      "metadata": {
        "id": "view-in-github",
        "colab_type": "text"
      },
      "source": [
        "<a href=\"https://colab.research.google.com/github/SilviaCalzon/IA-School/blob/main/Activit%C3%A9_1.ipynb\" target=\"_parent\"><img src=\"https://colab.research.google.com/assets/colab-badge.svg\" alt=\"Open In Colab\"/></a>"
      ]
    },
    {
      "cell_type": "code",
      "execution_count": null,
      "metadata": {
        "colab": {
          "base_uri": "https://localhost:8080/"
        },
        "id": "L94JMDGsqGmg",
        "outputId": "0189e4d6-46d0-4ab5-81e8-895f422e2ac9"
      },
      "outputs": [
        {
          "output_type": "stream",
          "name": "stdout",
          "text": [
            "x=5\n",
            "62.5\n"
          ]
        }
      ],
      "source": [
        "#a\n",
        "x = float(input('x='))\n",
        "def my_calcul(x):\n",
        "      return x**3-1.5*x**2-6*x+5\n",
        "print(my_calcul(x))"
      ]
    },
    {
      "cell_type": "code",
      "source": [
        "#b\n",
        "x = int(input('rentrer une valeur de x='))\n",
        "def factorielle(x):\n",
        "  if x == 0:\n",
        "    return 1\n",
        "  else : \n",
        "    k = 1\n",
        "    for n in range(2,x+1):\n",
        "      k = k*n\n",
        "    return k"
      ],
      "metadata": {
        "colab": {
          "base_uri": "https://localhost:8080/"
        },
        "id": "GfCnJzgWqKNQ",
        "outputId": "a2b7e205-be70-4c81-cd68-7f2b51e972e7"
      },
      "execution_count": 4,
      "outputs": [
        {
          "name": "stdout",
          "output_type": "stream",
          "text": [
            "rentrer une valeur de x=5\n"
          ]
        }
      ]
    },
    {
      "cell_type": "code",
      "source": [
        "#c \n",
        "n = int(input (\"Entrer le nombre maximal de la suite:\"))\n",
        "U0 = 0\n",
        "U1 = 1\n",
        "\n",
        "for n in range(2,n):\n",
        "  Un = U0 + U1\n",
        "  print(Un)\n",
        "  U0 = U1\n",
        "  U1 = Un"
      ],
      "metadata": {
        "colab": {
          "base_uri": "https://localhost:8080/"
        },
        "id": "w5aqPbYht8D7",
        "outputId": "9527540c-6e34-4169-fd84-f1fbeadc2bb0"
      },
      "execution_count": null,
      "outputs": [
        {
          "name": "stdout",
          "output_type": "stream",
          "text": [
            "Entrer la maximum de la suite:2\n"
          ]
        }
      ]
    }
  ]
}