{
  "nbformat": 4,
  "nbformat_minor": 0,
  "metadata": {
    "colab": {
      "name": "Exo_1_b.ipynb",
      "provenance": [],
      "authorship_tag": "ABX9TyPq0Pbz1mz5TLKYrqe5kj/E",
      "include_colab_link": true
    },
    "kernelspec": {
      "name": "python3",
      "display_name": "Python 3"
    },
    "language_info": {
      "name": "python"
    }
  },
  "cells": [
    {
      "cell_type": "markdown",
      "metadata": {
        "id": "view-in-github",
        "colab_type": "text"
      },
      "source": [
        "<a href=\"https://colab.research.google.com/github/SilviaCalzon/IA-School/blob/main/Exo_1_b.ipynb\" target=\"_parent\"><img src=\"https://colab.research.google.com/assets/colab-badge.svg\" alt=\"Open In Colab\"/></a>"
      ]
    },
    {
      "cell_type": "code",
      "execution_count": null,
      "metadata": {
        "id": "eL5fjtfZAqvq"
      },
      "outputs": [],
      "source": [
        "#b\n",
        "x = int(input('rentrer une valeur de x='))\n",
        "def factorielle(x):\n",
        "  if x == 0:\n",
        "    return 1\n",
        "  else : \n",
        "    k = 1\n",
        "    for n in range(2,x+1):\n",
        "      k = k*n\n",
        "    return k"
      ]
    }
  ]
}